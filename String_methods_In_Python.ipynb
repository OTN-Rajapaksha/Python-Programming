{
  "nbformat": 4,
  "nbformat_minor": 0,
  "metadata": {
    "colab": {
      "provenance": [],
      "authorship_tag": "ABX9TyO9LXHBAuHHMUSeGtkEeu9U",
      "include_colab_link": true
    },
    "kernelspec": {
      "name": "python3",
      "display_name": "Python 3"
    },
    "language_info": {
      "name": "python"
    }
  },
  "cells": [
    {
      "cell_type": "markdown",
      "metadata": {
        "id": "view-in-github",
        "colab_type": "text"
      },
      "source": [
        "<a href=\"https://colab.research.google.com/github/OTN-Rajapaksha/Python-Programming/blob/main/String_methods_In_Python.ipynb\" target=\"_parent\"><img src=\"https://colab.research.google.com/assets/colab-badge.svg\" alt=\"Open In Colab\"/></a>"
      ]
    },
    {
      "cell_type": "code",
      "execution_count": 4,
      "metadata": {
        "colab": {
          "base_uri": "https://localhost:8080/"
        },
        "id": "qK01ANwovsvY",
        "outputId": "bb46f45d-45cd-401e-f6c9-6e41901cf3c2"
      },
      "outputs": [
        {
          "output_type": "stream",
          "name": "stdout",
          "text": [
            "Oshan Thiyanga Nawod Rajapaksha\n",
            "OSHAN THIYANGA NAWOD RAJAPAKSHA\n",
            "oshan thiyanga nawod rajapaksha\n",
            "Oshan Thiyanga Nawod Rajapaksha\n",
            "Oshan thiyanga nawod rajapaksha\n"
          ]
        }
      ],
      "source": [
        "name = \"Oshan Thiyanga Nawod Rajapaksha\"\n",
        "\n",
        "print(name)\n",
        "print(name.upper()) #Capital Letter\n",
        "print(name.lower()) #Simple Letter\n",
        "print(name.title()) #Frist Letter Capital Letter\n",
        "print(name.capitalize()) #Frist Letter Capital Letter"
      ]
    },
    {
      "cell_type": "code",
      "source": [
        "#find() index()\n",
        "\n",
        "name = \"Oshan Thiyanga Nawod Rajapaksha\"\n",
        "\n",
        "print(name.find(\"a\"))\n",
        "print(name.index(\"a\"))\n",
        "print(name.index(\"a\", 10))\n",
        "print(name.index(\"y\"))\n",
        "print(name.index(\"Nawod\"))"
      ],
      "metadata": {
        "colab": {
          "base_uri": "https://localhost:8080/"
        },
        "id": "MzI1nk2JwiNA",
        "outputId": "dc523603-e315-4a70-cff8-22516c9bfb98"
      },
      "execution_count": 9,
      "outputs": [
        {
          "output_type": "stream",
          "name": "stdout",
          "text": [
            "3\n",
            "3\n",
            "10\n",
            "9\n",
            "15\n"
          ]
        }
      ]
    },
    {
      "cell_type": "code",
      "source": [],
      "metadata": {
        "id": "MB7coAvdzjS1"
      },
      "execution_count": null,
      "outputs": []
    }
  ]
}