{
  "nbformat": 4,
  "nbformat_minor": 0,
  "metadata": {
    "colab": {
      "provenance": [],
      "include_colab_link": true
    },
    "kernelspec": {
      "name": "python3",
      "display_name": "Python 3"
    },
    "language_info": {
      "name": "python"
    }
  },
  "cells": [
    {
      "cell_type": "markdown",
      "metadata": {
        "id": "view-in-github",
        "colab_type": "text"
      },
      "source": [
        "<a href=\"https://colab.research.google.com/github/OTN-Rajapaksha/Python-Programming/blob/main/Python_Programming.ipynb\" target=\"_parent\"><img src=\"https://colab.research.google.com/assets/colab-badge.svg\" alt=\"Open In Colab\"/></a>"
      ]
    },
    {
      "cell_type": "code",
      "execution_count": null,
      "metadata": {
        "colab": {
          "base_uri": "https://localhost:8080/"
        },
        "id": "Rm_O0KBYPWCE",
        "outputId": "4141f4bd-3e5e-45c0-aa35-c813698fcef5"
      },
      "outputs": [
        {
          "output_type": "stream",
          "name": "stdout",
          "text": [
            "Hello,Oshan\n"
          ]
        }
      ],
      "source": [
        "print(\"Hello,Oshan,Thiyanga,Rajapaksha\")"
      ]
    },
    {
      "cell_type": "markdown",
      "source": [],
      "metadata": {
        "id": "sfSzvVuNYgp-"
      }
    },
    {
      "cell_type": "markdown",
      "source": [
        "###How to Print Text In Python"
      ],
      "metadata": {
        "id": "oQpVrjLEYjQn"
      }
    },
    {
      "cell_type": "code",
      "source": [
        "print(\"Hello\")"
      ],
      "metadata": {
        "colab": {
          "base_uri": "https://localhost:8080/"
        },
        "id": "k249a6gwYn-6",
        "outputId": "d3d5a0fc-d485-42dd-c505-412c064c8147"
      },
      "execution_count": 1,
      "outputs": [
        {
          "output_type": "stream",
          "name": "stdout",
          "text": [
            "Hello\n"
          ]
        }
      ]
    },
    {
      "cell_type": "markdown",
      "source": [
        "###How To Calculate in Python"
      ],
      "metadata": {
        "id": "PgckUstzZFMJ"
      }
    },
    {
      "cell_type": "code",
      "source": [
        "print(5+6)"
      ],
      "metadata": {
        "colab": {
          "base_uri": "https://localhost:8080/"
        },
        "id": "M7BKQabOZF5R",
        "outputId": "e64ceee6-1598-4fad-f6ef-4c1ef364da30"
      },
      "execution_count": 6,
      "outputs": [
        {
          "output_type": "stream",
          "name": "stdout",
          "text": [
            "11\n"
          ]
        }
      ]
    },
    {
      "cell_type": "code",
      "source": [
        "print(2*8)"
      ],
      "metadata": {
        "colab": {
          "base_uri": "https://localhost:8080/"
        },
        "id": "Acj9r2dUZNSb",
        "outputId": "87cf8922-e5f3-4812-972a-4f0f5e2c5232"
      },
      "execution_count": 7,
      "outputs": [
        {
          "output_type": "stream",
          "name": "stdout",
          "text": [
            "16\n"
          ]
        }
      ]
    },
    {
      "cell_type": "code",
      "source": [
        "print(5-2)"
      ],
      "metadata": {
        "colab": {
          "base_uri": "https://localhost:8080/"
        },
        "id": "3AFGIyqmZRXd",
        "outputId": "a2714097-7359-44f0-d4a6-ff7ee10406f3"
      },
      "execution_count": 8,
      "outputs": [
        {
          "output_type": "stream",
          "name": "stdout",
          "text": [
            "3\n"
          ]
        }
      ]
    },
    {
      "cell_type": "code",
      "source": [
        "print(10%2)"
      ],
      "metadata": {
        "colab": {
          "base_uri": "https://localhost:8080/"
        },
        "id": "aDzWd-nqZUWG",
        "outputId": "13aca3b6-86cb-4aa9-ca97-079785e3fc0d"
      },
      "execution_count": 9,
      "outputs": [
        {
          "output_type": "stream",
          "name": "stdout",
          "text": [
            "0\n"
          ]
        }
      ]
    },
    {
      "cell_type": "markdown",
      "source": [
        "###How to use Variable in Python"
      ],
      "metadata": {
        "id": "Lvbh6zOzZ8_Z"
      }
    },
    {
      "cell_type": "code",
      "source": [
        "name = \"Kamal\"\n",
        "age = 20\n",
        "weight = 54.5\n",
        "\n",
        "print(name)"
      ],
      "metadata": {
        "colab": {
          "base_uri": "https://localhost:8080/"
        },
        "id": "i0vhsKcDaIIf",
        "outputId": "668afa51-a7f4-424c-e35d-dd8107fed117"
      },
      "execution_count": 11,
      "outputs": [
        {
          "output_type": "stream",
          "name": "stdout",
          "text": [
            "Kamal\n"
          ]
        }
      ]
    },
    {
      "cell_type": "code",
      "source": [
        "print(age)"
      ],
      "metadata": {
        "colab": {
          "base_uri": "https://localhost:8080/"
        },
        "id": "VZwe9utha5of",
        "outputId": "6fa67256-87e1-4000-8913-9ee4408f975a"
      },
      "execution_count": 12,
      "outputs": [
        {
          "output_type": "stream",
          "name": "stdout",
          "text": [
            "20\n"
          ]
        }
      ]
    },
    {
      "cell_type": "code",
      "source": [
        "weight = 54.5\n",
        "print(weight)"
      ],
      "metadata": {
        "colab": {
          "base_uri": "https://localhost:8080/"
        },
        "id": "JF02bFgLbAmi",
        "outputId": "fdabf278-2859-4618-e411-7869baa7f2ba"
      },
      "execution_count": 14,
      "outputs": [
        {
          "output_type": "stream",
          "name": "stdout",
          "text": [
            "54.5\n"
          ]
        }
      ]
    },
    {
      "cell_type": "code",
      "source": [
        "print(name,age,weight)"
      ],
      "metadata": {
        "colab": {
          "base_uri": "https://localhost:8080/"
        },
        "id": "vJRZ_40XbJY7",
        "outputId": "2c22770b-4c8c-4f74-9ef0-8534f74c0b8e"
      },
      "execution_count": 15,
      "outputs": [
        {
          "output_type": "stream",
          "name": "stdout",
          "text": [
            "Kamal 20 54.5\n"
          ]
        }
      ]
    },
    {
      "cell_type": "code",
      "source": [
        "mango,apple,banana = 5,10,15\n",
        "\n",
        "print(mango,apple,banana)"
      ],
      "metadata": {
        "colab": {
          "base_uri": "https://localhost:8080/"
        },
        "id": "XUUMMml4iM7C",
        "outputId": "83a692bb-6eba-46ce-c73b-db50d5eaab02"
      },
      "execution_count": 16,
      "outputs": [
        {
          "output_type": "stream",
          "name": "stdout",
          "text": [
            "5 10 15\n"
          ]
        }
      ]
    },
    {
      "cell_type": "markdown",
      "source": [
        "###Data Types In Python"
      ],
      "metadata": {
        "id": "pyecd7oVi2oA"
      }
    },
    {
      "cell_type": "code",
      "source": [
        "#Integer\n",
        "\n",
        "a = 10\n",
        "b = 20\n",
        "\n",
        "print(type(a))\n",
        "print(a)\n",
        "print(b)\n",
        "print(a+b)\n",
        "\n",
        "#Float\n",
        "\n",
        "c = 3.4\n",
        "d = -4.6\n",
        "\n",
        "print(type(c))\n",
        "print(c+d)\n",
        "\n",
        "#Bool\n",
        "\n",
        "e = True\n",
        "d = False\n",
        "\n",
        "print(type(e))\n",
        "print(e)\n",
        "\n",
        "#Complex\n",
        "\n",
        "f = 5+6j\n",
        "g = 3-8j\n",
        "\n",
        "print(type(g))\n",
        "print(f)\n",
        "\n",
        "print(f.real)\n",
        "print(g.imag)"
      ],
      "metadata": {
        "colab": {
          "base_uri": "https://localhost:8080/"
        },
        "id": "BxnOZt3fi5Ps",
        "outputId": "d622e225-0fda-4af2-8152-f22b0172bd94"
      },
      "execution_count": 27,
      "outputs": [
        {
          "output_type": "stream",
          "name": "stdout",
          "text": [
            "<class 'int'>\n",
            "10\n",
            "20\n",
            "30\n",
            "<class 'float'>\n",
            "-1.1999999999999997\n",
            "<class 'bool'>\n",
            "True\n",
            "<class 'complex'>\n",
            "(5+6j)\n",
            "5.0\n",
            "-8.0\n"
          ]
        }
      ]
    },
    {
      "cell_type": "markdown",
      "source": [
        "**Python Dynamically Typed Language**"
      ],
      "metadata": {
        "id": "Uat2UD6Hohg8"
      }
    },
    {
      "cell_type": "code",
      "source": [
        "x = 3\n",
        "\n",
        "print(type(x))\n",
        "\n",
        "x = 3.5\n",
        "\n",
        "print(type(x))\n",
        "\n",
        "x = \"Oshan\"\n",
        "\n",
        "print(type(x))"
      ],
      "metadata": {
        "colab": {
          "base_uri": "https://localhost:8080/"
        },
        "id": "dkM5Uk9-omK7",
        "outputId": "eb1b0011-a3cb-4261-88e0-5fe7b43011ba"
      },
      "execution_count": 29,
      "outputs": [
        {
          "output_type": "stream",
          "name": "stdout",
          "text": [
            "<class 'int'>\n",
            "<class 'float'>\n",
            "<class 'str'>\n"
          ]
        }
      ]
    },
    {
      "cell_type": "markdown",
      "source": [
        "**Arithmetic Operators In Python**"
      ],
      "metadata": {
        "id": "ITpYx3gcqWYi"
      }
    },
    {
      "cell_type": "code",
      "source": [
        "a = 11\n",
        "b = 3\n",
        "\n",
        "#Addition\n",
        "\n",
        "print(a+b)\n",
        "\n",
        "#Sutraction\n",
        "\n",
        "print(a-b)\n",
        "\n",
        "#Multification\n",
        "\n",
        "print(a*b)\n",
        "\n",
        "#Diviton\n",
        "\n",
        "print(a/b)\n",
        "\n",
        "#Floor Divition\n",
        "\n",
        "print(a//b)\n",
        "\n",
        "#Mode\n",
        "\n",
        "print(a%b)\n",
        "\n",
        "#Power\n",
        "\n",
        "print(a**b)\n"
      ],
      "metadata": {
        "colab": {
          "base_uri": "https://localhost:8080/"
        },
        "id": "tGmgB1kDqcBk",
        "outputId": "e8fc644c-f8cf-47b3-a84d-9c540518210a"
      },
      "execution_count": 31,
      "outputs": [
        {
          "output_type": "stream",
          "name": "stdout",
          "text": [
            "14\n",
            "8\n",
            "33\n",
            "3.6666666666666665\n",
            "3\n",
            "2\n",
            "1331\n"
          ]
        }
      ]
    },
    {
      "cell_type": "markdown",
      "source": [
        "**Assignment Operators In Python**"
      ],
      "metadata": {
        "id": "5n4rpZUfs-kO"
      }
    },
    {
      "cell_type": "code",
      "source": [
        "a = 5\n",
        "b = 2\n",
        "\n",
        "a += b\n",
        "\n",
        "print(a)\n",
        "\n",
        "a -= b\n",
        "\n",
        "print(a)\n",
        "\n",
        "a *= b\n",
        "\n",
        "print(a)\n",
        "\n",
        "a /= b\n",
        "\n",
        "print(a)\n",
        "\n",
        "a //= b\n",
        "\n",
        "print(a)\n",
        "\n",
        "a %= b\n",
        "\n",
        "print(a)\n",
        "\n",
        "a **= b\n",
        "\n",
        "print(a)\n"
      ],
      "metadata": {
        "colab": {
          "base_uri": "https://localhost:8080/"
        },
        "id": "0185BGXAtHjB",
        "outputId": "42b2dcfa-4447-493e-c770-d5f11e6deec7"
      },
      "execution_count": 32,
      "outputs": [
        {
          "output_type": "stream",
          "name": "stdout",
          "text": [
            "7\n",
            "5\n",
            "10\n",
            "5.0\n",
            "2.0\n",
            "0.0\n",
            "0.0\n"
          ]
        }
      ]
    },
    {
      "cell_type": "markdown",
      "source": [
        "**Comparison Operators In Python**"
      ],
      "metadata": {
        "id": "nU1rrj0OySZL"
      }
    },
    {
      "cell_type": "code",
      "source": [
        "a = 5\n",
        "b = 2\n",
        "\n",
        "print(a == b)\n",
        "\n",
        "print(a != b)\n",
        "\n",
        "print(a > b)\n",
        "\n",
        "print(a < b)\n",
        "\n",
        "print(a >= b)\n",
        "\n",
        "print(a <= b)\n"
      ],
      "metadata": {
        "colab": {
          "base_uri": "https://localhost:8080/"
        },
        "id": "Ep-EIsbHyWCi",
        "outputId": "4b60f466-eca2-433e-cb80-f77359466050"
      },
      "execution_count": 33,
      "outputs": [
        {
          "output_type": "stream",
          "name": "stdout",
          "text": [
            "False\n",
            "True\n",
            "True\n",
            "False\n",
            "True\n",
            "False\n"
          ]
        }
      ]
    },
    {
      "cell_type": "markdown",
      "source": [
        "**Logical Operators In Python**"
      ],
      "metadata": {
        "id": "BZqa61Aw1OZs"
      }
    },
    {
      "cell_type": "code",
      "source": [
        "print(4<5 and 5<6)\n",
        "\n",
        "print(4<5 or 5>6)\n",
        "\n",
        "print(not(4<5 and 5<6))\n",
        "\n",
        "print(4>5 and 5<6)\n",
        "\n",
        "print(4>5 or 5>6)\n",
        "\n",
        "print(not(4>5 and 5>6))"
      ],
      "metadata": {
        "colab": {
          "base_uri": "https://localhost:8080/"
        },
        "id": "2nuOU21p1Qra",
        "outputId": "819792e2-2d2d-4c1a-a77e-5cf305ae2a30"
      },
      "execution_count": 3,
      "outputs": [
        {
          "output_type": "stream",
          "name": "stdout",
          "text": [
            "True\n",
            "True\n",
            "False\n",
            "False\n",
            "False\n",
            "True\n"
          ]
        }
      ]
    },
    {
      "cell_type": "code",
      "source": [],
      "metadata": {
        "id": "wvP3dnUclCE-"
      },
      "execution_count": null,
      "outputs": []
    }
  ]
}